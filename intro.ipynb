{
 "cells": [
  {
   "cell_type": "markdown",
   "metadata": {},
   "source": [
    "# MELI Twitter Data Analysis\n",
    "\n",
    "## Abstract \n",
    "\n",
    "In this project, we extract and analyze Twitter data related to MercadoLibre. This covers a complete analysis, from the posing of the correct questions to be solved, the collection of unstructured data, its structuring, its cleaning and its exploratory analysis and the determination of initiatives to take from them. This also includes the generation of prediction models.\n",
    "\n",
    "\n",
    "As the first step in data analysis, we need to ask the right questions to achieve good results as well as identify the main objetive to better know what type of data we´ll be needing to draw conclusions. This questions should be measurable, clear and consice. It is also important to define the problem to solve clearly.\n",
    "\n",
    "Every step in this statistical analysis must lead to a future decision about something: reach more clients and improve the reputation of the company.\n",
    "\n",
    "As we know, diferent variables have diferent dificult to be measure. In this case, the dificult is high since they are unstructured and subjetive. But in any statiscal analysis, ee are always negotiating how expensive to collect data and how difficult to achieve good results with a small data set. Due to the scope of this project, we will use an open source library called Tweepy to get data data and try to extract ideas from it.\n",
    "\n",
    "We also need to know that the distribution is IID (independent and identical distributed) for this particular case of analysis and can´t be extrapolated to other escensarios. The observations are independent (we have different users that use the same platform from the same region and at the same time, talking about the same thing). Also, the observations comes from the same distribution. \n",
    "\n",
    "## Research study\n",
    "\n",
    "* **Exploratory**. We collect and analyze data from twitter without a previous fixed question, teasing out trends and patterns, as well as deviations from the model, outliers, and unexpected results, using quantitative and visual methods. A *confirmatory* study could be done after getting some insights about the data.\n",
    "\n",
    "* **Observatinonal**. We only look at the twitter activity without altering or causing anything.\n",
    "* **Compartive**. We compare the performance of the differetns MercadoLibre´s accounts, how differents are the complains in each country, what time produces the greatest impact, etc.\n",
    "\n",
    "\n",
    "## Objetive\n",
    "\n",
    "* Understand the dynamics of Twitter users to improve the way Mercado Libre can reach more users, increase its reputation, solve user problems faster and better and invest in content that brings more results and discourage those that do not.\n",
    "* Use twitter data to develop better business strategies, understand customer´s feeling towards Mercado Libre and its products (such as MercadoPago), how they respond to their campaigns or product launches.\n",
    "\n",
    "\n",
    "## Questions\n",
    "\n",
    "* Wich account gets more favs/retweets? \n",
    "* What tweets achieve more repercussion?\n",
    "* What are the main complaints from users?\n",
    "* From which country are there the most complaints?\n",
    "* What time are there more complaints?\n",
    "* How do people respond to each product?\n",
    "* Are there more positive or negative tweets?\n",
    "\n",
    "\n"
   ]
  }
 ],
 "metadata": {
  "kernelspec": {
   "display_name": "Python 3",
   "language": "python",
   "name": "python3"
  },
  "language_info": {
   "codemirror_mode": {
    "name": "ipython",
    "version": 3
   },
   "file_extension": ".py",
   "mimetype": "text/x-python",
   "name": "python",
   "nbconvert_exporter": "python",
   "pygments_lexer": "ipython3",
   "version": "3.7.7"
  }
 },
 "nbformat": 4,
 "nbformat_minor": 4
}
