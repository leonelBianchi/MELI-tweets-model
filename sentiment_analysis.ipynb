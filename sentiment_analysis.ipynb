{
 "cells": [
  {
   "cell_type": "markdown",
   "metadata": {},
   "source": [
    "# Mercadolibre´s Tweets Sentiment Analysis with Natural Language Processing\n",
    "\n",
    "Some time ago I created a natural language processing model with tweets from an airline company account that predicts whether a tweet has a positive or negative sentiment. It can be found in my github repo [here](https://github.com/leonelBianchi/NLP-Model-in-Twitter). To take advantage of it, I am going to import the function of this model and apply it to the Twitter mentions of Mercado libre, particularly @ML_Ayuda account that is used to make claims. But that model was trained with tweets in english and Mercadolibre´s account is in spanish. Because of that, I used the same model as before but now the dataset is in spanish (can be found from the same source). \n",
    "\n",
    "However, this would not be entirely correct, since the model was trained with tweets from an airline company customers mentions and now we are using it for a data sample of an ecommerce company. But, you will see that in language there are some exclamations that are repeated everywhere, so the learning can be used in other situations. Anyway, let's try it."
   ]
  },
  {
   "cell_type": "markdown",
   "metadata": {},
   "source": [
    "## Importing packages"
   ]
  },
  {
   "cell_type": "code",
   "execution_count": 23,
   "metadata": {},
   "outputs": [],
   "source": [
    "import pandas as pd\n",
    "import numpy as np\n",
    "\n",
    "from ipynb.fs.full.nlp_model import text_classification # import the natural language processing model"
   ]
  },
  {
   "cell_type": "markdown",
   "metadata": {},
   "source": [
    "## Importing datasets\n",
    "\n",
    "Import tweets from @ML_Ayuda and clean it."
   ]
  },
  {
   "cell_type": "code",
   "execution_count": 14,
   "metadata": {},
   "outputs": [
    {
     "data": {
      "text/html": [
       "<div>\n",
       "<style scoped>\n",
       "    .dataframe tbody tr th:only-of-type {\n",
       "        vertical-align: middle;\n",
       "    }\n",
       "\n",
       "    .dataframe tbody tr th {\n",
       "        vertical-align: top;\n",
       "    }\n",
       "\n",
       "    .dataframe thead th {\n",
       "        text-align: right;\n",
       "    }\n",
       "</style>\n",
       "<table border=\"1\" class=\"dataframe\">\n",
       "  <thead>\n",
       "    <tr style=\"text-align: right;\">\n",
       "      <th></th>\n",
       "      <th>text</th>\n",
       "      <th>hour</th>\n",
       "    </tr>\n",
       "  </thead>\n",
       "  <tbody>\n",
       "    <tr>\n",
       "      <th>0</th>\n",
       "      <td>expl came si lo puedo devolver y si me implica alg n costo a m    me hubiera conformado con calificar pero ni eso me dejan</td>\n",
       "      <td>16</td>\n",
       "    </tr>\n",
       "    <tr>\n",
       "      <th>1</th>\n",
       "      <td>buen d a compro normalmente con dos cuit pero mi perfil alfi61 tiene un solo cuit y me crea problemas a l  https t co yeasmwhs6k</td>\n",
       "      <td>16</td>\n",
       "    </tr>\n",
       "    <tr>\n",
       "      <th>2</th>\n",
       "      <td>la cuesti n como saben cual es mi cuentas  existen miles de edgar</td>\n",
       "      <td>16</td>\n",
       "    </tr>\n",
       "    <tr>\n",
       "      <th>3</th>\n",
       "      <td>necesito aclarar algunos pagos que cargaron a mi tarjeta de credito en chile</td>\n",
       "      <td>16</td>\n",
       "    </tr>\n",
       "    <tr>\n",
       "      <th>4</th>\n",
       "      <td>katiapalomadelacruzlapoint operaci n  13258769682 tu reclamo n  5056925568</td>\n",
       "      <td>16</td>\n",
       "    </tr>\n",
       "  </tbody>\n",
       "</table>\n",
       "</div>"
      ],
      "text/plain": [
       "                                                                                                                                text  \\\n",
       "0   expl came si lo puedo devolver y si me implica alg n costo a m    me hubiera conformado con calificar pero ni eso me dejan         \n",
       "1   buen d a compro normalmente con dos cuit pero mi perfil alfi61 tiene un solo cuit y me crea problemas a l  https t co yeasmwhs6k   \n",
       "2   la cuesti n como saben cual es mi cuentas  existen miles de edgar                                                                  \n",
       "3   necesito aclarar algunos pagos que cargaron a mi tarjeta de credito en chile                                                       \n",
       "4   katiapalomadelacruzlapoint operaci n  13258769682 tu reclamo n  5056925568                                                         \n",
       "\n",
       "   hour  \n",
       "0  16    \n",
       "1  16    \n",
       "2  16    \n",
       "3  16    \n",
       "4  16    "
      ]
     },
     "execution_count": 14,
     "metadata": {},
     "output_type": "execute_result"
    }
   ],
   "source": [
    "df = pd.read_csv(\"_dataframes/df_ayuda_clean.csv\")\n",
    "df = df[[\"text\", \"hour\"]]\n",
    "df[\"text\"] = df[\"text\"].str.replace(\"@ML_Ayuda\", '')\n",
    "\n",
    "df[\"text\"] = df[\"text\"].str.replace(\"[^0-9a-zA-Z ]+\",\" \")\n",
    "df[\"text\"] = df[\"text\"].str.lower()\n",
    "\n",
    "df.head(5)"
   ]
  },
  {
   "cell_type": "markdown",
   "metadata": {},
   "source": [
    "## Predictions"
   ]
  },
  {
   "cell_type": "markdown",
   "metadata": {},
   "source": [
    "Here I apply the text_classification function (developed in nlp_model.py file) for each tweet. Then, I create a new column with this data."
   ]
  },
  {
   "cell_type": "code",
   "execution_count": 15,
   "metadata": {},
   "outputs": [],
   "source": [
    "sentiment = [text_classification(df[\"text\"][tweet]) for tweet in range(0, len(df))]"
   ]
  },
  {
   "cell_type": "code",
   "execution_count": 16,
   "metadata": {},
   "outputs": [],
   "source": [
    "df[\"Sentiment\"] = sentiment"
   ]
  },
  {
   "cell_type": "code",
   "execution_count": 22,
   "metadata": {},
   "outputs": [
    {
     "data": {
      "text/html": [
       "<div>\n",
       "<style scoped>\n",
       "    .dataframe tbody tr th:only-of-type {\n",
       "        vertical-align: middle;\n",
       "    }\n",
       "\n",
       "    .dataframe tbody tr th {\n",
       "        vertical-align: top;\n",
       "    }\n",
       "\n",
       "    .dataframe thead th {\n",
       "        text-align: right;\n",
       "    }\n",
       "</style>\n",
       "<table border=\"1\" class=\"dataframe\">\n",
       "  <thead>\n",
       "    <tr style=\"text-align: right;\">\n",
       "      <th></th>\n",
       "      <th>text</th>\n",
       "      <th>hour</th>\n",
       "      <th>Sentiment</th>\n",
       "    </tr>\n",
       "  </thead>\n",
       "  <tbody>\n",
       "    <tr>\n",
       "      <th>0</th>\n",
       "      <td>expl came si lo puedo devolver y si me implica alg n costo a m    me hubiera conformado con calificar pero ni eso me dejan</td>\n",
       "      <td>16</td>\n",
       "      <td>Negative</td>\n",
       "    </tr>\n",
       "    <tr>\n",
       "      <th>1</th>\n",
       "      <td>buen d a compro normalmente con dos cuit pero mi perfil alfi61 tiene un solo cuit y me crea problemas a l  https t co yeasmwhs6k</td>\n",
       "      <td>16</td>\n",
       "      <td>Negative</td>\n",
       "    </tr>\n",
       "    <tr>\n",
       "      <th>2</th>\n",
       "      <td>la cuesti n como saben cual es mi cuentas  existen miles de edgar</td>\n",
       "      <td>16</td>\n",
       "      <td>Negative</td>\n",
       "    </tr>\n",
       "    <tr>\n",
       "      <th>3</th>\n",
       "      <td>necesito aclarar algunos pagos que cargaron a mi tarjeta de credito en chile</td>\n",
       "      <td>16</td>\n",
       "      <td>Negative</td>\n",
       "    </tr>\n",
       "    <tr>\n",
       "      <th>4</th>\n",
       "      <td>katiapalomadelacruzlapoint operaci n  13258769682 tu reclamo n  5056925568</td>\n",
       "      <td>16</td>\n",
       "      <td>Negative</td>\n",
       "    </tr>\n",
       "    <tr>\n",
       "      <th>5</th>\n",
       "      <td>me figura tu clave venci  contin o y me env a un supuesto c digo que nunca llega  es comercial la cuenta  https t co fcovf0qxrl</td>\n",
       "      <td>16</td>\n",
       "      <td>Negative</td>\n",
       "    </tr>\n",
       "    <tr>\n",
       "      <th>6</th>\n",
       "      <td>atencionprofeco   mercadolibre  mercadopagomex  concilianet  profeco ya la present  desde el d a 4 de feb  https t co 8uxesxn3fr</td>\n",
       "      <td>16</td>\n",
       "      <td>Negative</td>\n",
       "    </tr>\n",
       "    <tr>\n",
       "      <th>7</th>\n",
       "      <td>significa que regresan el dinero a mi tarjeta o que hacen el pago al vendedor</td>\n",
       "      <td>16</td>\n",
       "      <td>Negative</td>\n",
       "    </tr>\n",
       "  </tbody>\n",
       "</table>\n",
       "</div>"
      ],
      "text/plain": [
       "                                                                                                                                text  \\\n",
       "0   expl came si lo puedo devolver y si me implica alg n costo a m    me hubiera conformado con calificar pero ni eso me dejan         \n",
       "1   buen d a compro normalmente con dos cuit pero mi perfil alfi61 tiene un solo cuit y me crea problemas a l  https t co yeasmwhs6k   \n",
       "2   la cuesti n como saben cual es mi cuentas  existen miles de edgar                                                                  \n",
       "3   necesito aclarar algunos pagos que cargaron a mi tarjeta de credito en chile                                                       \n",
       "4   katiapalomadelacruzlapoint operaci n  13258769682 tu reclamo n  5056925568                                                         \n",
       "5   me figura tu clave venci  contin o y me env a un supuesto c digo que nunca llega  es comercial la cuenta  https t co fcovf0qxrl    \n",
       "6   atencionprofeco   mercadolibre  mercadopagomex  concilianet  profeco ya la present  desde el d a 4 de feb  https t co 8uxesxn3fr   \n",
       "7   significa que regresan el dinero a mi tarjeta o que hacen el pago al vendedor                                                      \n",
       "\n",
       "   hour Sentiment  \n",
       "0  16    Negative  \n",
       "1  16    Negative  \n",
       "2  16    Negative  \n",
       "3  16    Negative  \n",
       "4  16    Negative  \n",
       "5  16    Negative  \n",
       "6  16    Negative  \n",
       "7  16    Negative  "
      ]
     },
     "execution_count": 22,
     "metadata": {},
     "output_type": "execute_result"
    }
   ],
   "source": [
    "df.head(8)"
   ]
  },
  {
   "cell_type": "markdown",
   "metadata": {},
   "source": [
    "## Quick View"
   ]
  },
  {
   "cell_type": "markdown",
   "metadata": {},
   "source": [
    "#### Positive and negatives tweets analysis"
   ]
  },
  {
   "cell_type": "code",
   "execution_count": 20,
   "metadata": {},
   "outputs": [
    {
     "data": {
      "text/html": [
       "<div>\n",
       "<style scoped>\n",
       "    .dataframe tbody tr th:only-of-type {\n",
       "        vertical-align: middle;\n",
       "    }\n",
       "\n",
       "    .dataframe tbody tr th {\n",
       "        vertical-align: top;\n",
       "    }\n",
       "\n",
       "    .dataframe thead th {\n",
       "        text-align: right;\n",
       "    }\n",
       "</style>\n",
       "<table border=\"1\" class=\"dataframe\">\n",
       "  <thead>\n",
       "    <tr style=\"text-align: right;\">\n",
       "      <th></th>\n",
       "      <th>text</th>\n",
       "      <th>hour</th>\n",
       "      <th>Sentiment</th>\n",
       "    </tr>\n",
       "  </thead>\n",
       "  <tbody>\n",
       "    <tr>\n",
       "      <th>0</th>\n",
       "      <td>expl came si lo puedo devolver y si me implica alg n costo a m    me hubiera conformado con calificar pero ni eso me dejan</td>\n",
       "      <td>16</td>\n",
       "      <td>Negative</td>\n",
       "    </tr>\n",
       "    <tr>\n",
       "      <th>1</th>\n",
       "      <td>buen d a compro normalmente con dos cuit pero mi perfil alfi61 tiene un solo cuit y me crea problemas a l  https t co yeasmwhs6k</td>\n",
       "      <td>16</td>\n",
       "      <td>Negative</td>\n",
       "    </tr>\n",
       "    <tr>\n",
       "      <th>2</th>\n",
       "      <td>la cuesti n como saben cual es mi cuentas  existen miles de edgar</td>\n",
       "      <td>16</td>\n",
       "      <td>Negative</td>\n",
       "    </tr>\n",
       "    <tr>\n",
       "      <th>3</th>\n",
       "      <td>necesito aclarar algunos pagos que cargaron a mi tarjeta de credito en chile</td>\n",
       "      <td>16</td>\n",
       "      <td>Negative</td>\n",
       "    </tr>\n",
       "    <tr>\n",
       "      <th>4</th>\n",
       "      <td>katiapalomadelacruzlapoint operaci n  13258769682 tu reclamo n  5056925568</td>\n",
       "      <td>16</td>\n",
       "      <td>Negative</td>\n",
       "    </tr>\n",
       "    <tr>\n",
       "      <th>5</th>\n",
       "      <td>me figura tu clave venci  contin o y me env a un supuesto c digo que nunca llega  es comercial la cuenta  https t co fcovf0qxrl</td>\n",
       "      <td>16</td>\n",
       "      <td>Negative</td>\n",
       "    </tr>\n",
       "    <tr>\n",
       "      <th>6</th>\n",
       "      <td>atencionprofeco   mercadolibre  mercadopagomex  concilianet  profeco ya la present  desde el d a 4 de feb  https t co 8uxesxn3fr</td>\n",
       "      <td>16</td>\n",
       "      <td>Negative</td>\n",
       "    </tr>\n",
       "    <tr>\n",
       "      <th>7</th>\n",
       "      <td>significa que regresan el dinero a mi tarjeta o que hacen el pago al vendedor</td>\n",
       "      <td>16</td>\n",
       "      <td>Negative</td>\n",
       "    </tr>\n",
       "  </tbody>\n",
       "</table>\n",
       "</div>"
      ],
      "text/plain": [
       "                                                                                                                                text  \\\n",
       "0   expl came si lo puedo devolver y si me implica alg n costo a m    me hubiera conformado con calificar pero ni eso me dejan         \n",
       "1   buen d a compro normalmente con dos cuit pero mi perfil alfi61 tiene un solo cuit y me crea problemas a l  https t co yeasmwhs6k   \n",
       "2   la cuesti n como saben cual es mi cuentas  existen miles de edgar                                                                  \n",
       "3   necesito aclarar algunos pagos que cargaron a mi tarjeta de credito en chile                                                       \n",
       "4   katiapalomadelacruzlapoint operaci n  13258769682 tu reclamo n  5056925568                                                         \n",
       "5   me figura tu clave venci  contin o y me env a un supuesto c digo que nunca llega  es comercial la cuenta  https t co fcovf0qxrl    \n",
       "6   atencionprofeco   mercadolibre  mercadopagomex  concilianet  profeco ya la present  desde el d a 4 de feb  https t co 8uxesxn3fr   \n",
       "7   significa que regresan el dinero a mi tarjeta o que hacen el pago al vendedor                                                      \n",
       "\n",
       "   hour Sentiment  \n",
       "0  16    Negative  \n",
       "1  16    Negative  \n",
       "2  16    Negative  \n",
       "3  16    Negative  \n",
       "4  16    Negative  \n",
       "5  16    Negative  \n",
       "6  16    Negative  \n",
       "7  16    Negative  "
      ]
     },
     "execution_count": 20,
     "metadata": {},
     "output_type": "execute_result"
    }
   ],
   "source": [
    "df[df[\"Sentiment\"] == \"Negative\"].head(8)"
   ]
  },
  {
   "cell_type": "code",
   "execution_count": 21,
   "metadata": {},
   "outputs": [
    {
     "data": {
      "text/html": [
       "<div>\n",
       "<style scoped>\n",
       "    .dataframe tbody tr th:only-of-type {\n",
       "        vertical-align: middle;\n",
       "    }\n",
       "\n",
       "    .dataframe tbody tr th {\n",
       "        vertical-align: top;\n",
       "    }\n",
       "\n",
       "    .dataframe thead th {\n",
       "        text-align: right;\n",
       "    }\n",
       "</style>\n",
       "<table border=\"1\" class=\"dataframe\">\n",
       "  <thead>\n",
       "    <tr style=\"text-align: right;\">\n",
       "      <th></th>\n",
       "      <th>text</th>\n",
       "      <th>hour</th>\n",
       "      <th>Sentiment</th>\n",
       "    </tr>\n",
       "  </thead>\n",
       "  <tbody>\n",
       "    <tr>\n",
       "      <th>20</th>\n",
       "      <td>https t co 3glrvw9u9i</td>\n",
       "      <td>16</td>\n",
       "      <td>Positive</td>\n",
       "    </tr>\n",
       "    <tr>\n",
       "      <th>21</th>\n",
       "      <td>https t co bmdzggjuob</td>\n",
       "      <td>16</td>\n",
       "      <td>Positive</td>\n",
       "    </tr>\n",
       "    <tr>\n",
       "      <th>61</th>\n",
       "      <td>gracias   espero pronto respuesta</td>\n",
       "      <td>15</td>\n",
       "      <td>Positive</td>\n",
       "    </tr>\n",
       "    <tr>\n",
       "      <th>106</th>\n",
       "      <td>https t co 5lmjx1nsy5</td>\n",
       "      <td>13</td>\n",
       "      <td>Positive</td>\n",
       "    </tr>\n",
       "    <tr>\n",
       "      <th>112</th>\n",
       "      <td>vale muchas gracias</td>\n",
       "      <td>13</td>\n",
       "      <td>Positive</td>\n",
       "    </tr>\n",
       "    <tr>\n",
       "      <th>157</th>\n",
       "      <td>fran44007   mercadolibre kyc</td>\n",
       "      <td>4</td>\n",
       "      <td>Positive</td>\n",
       "    </tr>\n",
       "    <tr>\n",
       "      <th>167</th>\n",
       "      <td>porque sucede esto   https t co o3no90d2m5</td>\n",
       "      <td>3</td>\n",
       "      <td>Positive</td>\n",
       "    </tr>\n",
       "    <tr>\n",
       "      <th>177</th>\n",
       "      <td>consulta   94470449</td>\n",
       "      <td>2</td>\n",
       "      <td>Positive</td>\n",
       "    </tr>\n",
       "  </tbody>\n",
       "</table>\n",
       "</div>"
      ],
      "text/plain": [
       "                                           text  hour Sentiment\n",
       "20    https t co 3glrvw9u9i                      16    Positive\n",
       "21    https t co bmdzggjuob                      16    Positive\n",
       "61    gracias   espero pronto respuesta          15    Positive\n",
       "106   https t co 5lmjx1nsy5                      13    Positive\n",
       "112   vale muchas gracias                        13    Positive\n",
       "157   fran44007   mercadolibre kyc               4     Positive\n",
       "167  porque sucede esto   https t co o3no90d2m5  3     Positive\n",
       "177  consulta   94470449                         2     Positive"
      ]
     },
     "execution_count": 21,
     "metadata": {},
     "output_type": "execute_result"
    }
   ],
   "source": [
    "df[df[\"Sentiment\"] == \"Positive\"].head(8)"
   ]
  },
  {
   "cell_type": "markdown",
   "metadata": {},
   "source": [
    "In general terms, we can see that negative tweets use \"No\" or \"Nunca\" a lot of time, while positives they tend to be neutral or showing appreciation for something, saying \"Gracias\", or somehthing like that. This shows a very good performance. Now lets see the proportion of each sentiment:"
   ]
  },
  {
   "cell_type": "code",
   "execution_count": 9,
   "metadata": {},
   "outputs": [
    {
     "name": "stdout",
     "output_type": "stream",
     "text": [
      "Positives:  0.0624\n",
      "Negatives:  0.9376\n"
     ]
    }
   ],
   "source": [
    "print(\"Positives: \", len(df[df[\"Sentiment\"] == \"Positive\"])/ len(df))\n",
    "print(\"Negatives: \", len(df[df[\"Sentiment\"] == \"Negative\"])/ len(df))"
   ]
  },
  {
   "cell_type": "markdown",
   "metadata": {},
   "source": [
    "I did not expect anything else, mentions are usually to complain about something or criticize. **It is very good to see that the tweets where you thank or say hello are classified as positive and those where a complaint is made as negative, even having used a model made with a dataset from an airline company, being that Mercadolibre belongs to another area like e-commerce. This shows that we can borrow learning from another model, having a much better parameter initialization and reducing training time. However, we didn´t do that here, we used the model as it was, working well at identifying language exclamations that are common everywhere.**"
   ]
  },
  {
   "cell_type": "markdown",
   "metadata": {},
   "source": [
    "#### Hour with most twitter activity"
   ]
  },
  {
   "cell_type": "code",
   "execution_count": 30,
   "metadata": {},
   "outputs": [
    {
     "data": {
      "text/plain": [
       "<matplotlib.axes._subplots.AxesSubplot at 0x22c7770e448>"
      ]
     },
     "execution_count": 30,
     "metadata": {},
     "output_type": "execute_result"
    },
    {
     "data": {
      "image/png": "[encoded data removed]",
      "text/plain": [
       "<Figure size 432x288 with 1 Axes>"
      ]
     },
     "metadata": {
      "needs_background": "light"
     },
     "output_type": "display_data"
    }
   ],
   "source": [
    "df[df[\"Sentiment\"] == \"Positive\"][\"hour\"].hist(bins=24)"
   ]
  },
  {
   "cell_type": "code",
   "execution_count": 29,
   "metadata": {},
   "outputs": [
    {
     "data": {
      "text/plain": [
       "<matplotlib.axes._subplots.AxesSubplot at 0x22c77609348>"
      ]
     },
     "execution_count": 29,
     "metadata": {},
     "output_type": "execute_result"
    },
    {
     "data": {
      "image/png": "[encoded data removed]",
      "text/plain": [
       "<Figure size 432x288 with 1 Axes>"
      ]
     },
     "metadata": {
      "needs_background": "light"
     },
     "output_type": "display_data"
    }
   ],
   "source": [
    "df[df[\"Sentiment\"] == \"Negative\"][\"hour\"].hist(bins=24)"
   ]
  },
  {
   "cell_type": "markdown",
   "metadata": {},
   "source": [
    "We can see that the distribution is the same for both sentiments. Most people tweet between 3 p.m. and 8 p.m. \n"
   ]
  },
  {
   "cell_type": "code",
   "execution_count": null,
   "metadata": {},
   "outputs": [],
   "source": []
  }
 ],
 "metadata": {
  "kernelspec": {
   "display_name": "Python 3",
   "language": "python",
   "name": "python3"
  },
  "language_info": {
   "codemirror_mode": {
    "name": "ipython",
    "version": 3
   },
   "file_extension": ".py",
   "mimetype": "text/x-python",
   "name": "python",
   "nbconvert_exporter": "python",
   "pygments_lexer": "ipython3",
   "version": "3.7.7"
  }
 },
 "nbformat": 4,
 "nbformat_minor": 4
}
